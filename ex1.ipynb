{
 "cells": [
  {
   "cell_type": "code",
   "execution_count": 2,
   "metadata": {},
   "outputs": [
    {
     "ename": "SyntaxError",
     "evalue": "(unicode error) 'unicodeescape' codec can't decode bytes in position 2-3: truncated \\UXXXXXXXX escape (3439471990.py, line 18)",
     "output_type": "error",
     "traceback": [
      "\u001b[1;36m  Cell \u001b[1;32mIn[2], line 18\u001b[1;36m\u001b[0m\n\u001b[1;33m    image = Image.open(\"C:\\Users\\tmachine\\Desktop\\SMART_AGILE_AI\\loc.png\")\u001b[0m\n\u001b[1;37m                                                                         ^\u001b[0m\n\u001b[1;31mSyntaxError\u001b[0m\u001b[1;31m:\u001b[0m (unicode error) 'unicodeescape' codec can't decode bytes in position 2-3: truncated \\UXXXXXXXX escape\n"
     ]
    }
   ],
   "source": [
    "import pyautogui\n",
    "from PIL import Image\n",
    "import pytesseract\n",
    "\n",
    "# Get the screen size\n",
    "screen_width, screen_height = pyautogui.size()\n",
    "\n",
    "# Define the region to capture (left, top, width, height)\n",
    "region = (10, 10, 1920, 700)  # Example region coordinates\n",
    "\n",
    "# Capture the screen of the specified region\n",
    "screenshot = pyautogui.screenshot(region=region)\n",
    "\n",
    "# Save the screenshot\n",
    "screenshot.save(\"loc.png\")\n",
    "\n",
    "# Open the saved screenshot image\n",
    "image = Image.open(\"loc.png\")\n",
    "\n",
    "# Perform any necessary image processing (e.g., converting to grayscale)\n",
    "# image = image.convert(\"L\")  # Convert to grayscale\n",
    "\n",
    "# Perform OCR using pytesseract\n",
    "text = pytesseract.image_to_string(image)\n",
    "\n",
    "# Print the extracted text\n",
    "print(\"Extracted Text:\")\n",
    "print(text)\n"
   ]
  }
 ],
 "metadata": {
  "kernelspec": {
   "display_name": "myenv",
   "language": "python",
   "name": "python3"
  },
  "language_info": {
   "codemirror_mode": {
    "name": "ipython",
    "version": 3
   },
   "file_extension": ".py",
   "mimetype": "text/x-python",
   "name": "python",
   "nbconvert_exporter": "python",
   "pygments_lexer": "ipython3",
   "version": "3.9.4"
  }
 },
 "nbformat": 4,
 "nbformat_minor": 2
}
